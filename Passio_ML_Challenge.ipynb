{
 "cells": [
  {
   "cell_type": "code",
   "execution_count": 14,
   "metadata": {},
   "outputs": [
    {
     "name": "stdout",
     "output_type": "stream",
     "text": [
      "Found 161 images belonging to 2 classes.\n",
      "Found 54 images belonging to 2 classes.\n"
     ]
    }
   ],
   "source": [
    "#import nessesary library for data pre-processing\n",
    "from keras.preprocessing.image import ImageDataGenerator, img_to_array, array_to_img\n",
    "\n",
    "#Use ImageDataGenerator for data augmentation to get more data for training and rescaling validation and testing data\n",
    "train_datagen = ImageDataGenerator(rescale=1./255, rotation_range=50, zoom_range=0.4, horizontal_flip=True)\n",
    "test_datagen = ImageDataGenerator(rescale=1./255)\n",
    "\n",
    "train_generator = train_datagen.flow_from_directory('train', target_size=(244,244), batch_size=10, class_mode='binary')\n",
    "valid_generator = test_datagen.flow_from_directory('valid', target_size=(244,244), batch_size=10, class_mode='binary')"
   ]
  },
  {
   "cell_type": "code",
   "execution_count": 15,
   "metadata": {},
   "outputs": [
    {
     "name": "stdout",
     "output_type": "stream",
     "text": [
      "_________________________________________________________________\n",
      "Layer (type)                 Output Shape              Param #   \n",
      "=================================================================\n",
      "conv2d_4 (Conv2D)            (None, 242, 242, 16)      448       \n",
      "_________________________________________________________________\n",
      "activation_14 (Activation)   (None, 242, 242, 16)      0         \n",
      "_________________________________________________________________\n",
      "max_pooling2d_4 (MaxPooling2 (None, 121, 121, 16)      0         \n",
      "_________________________________________________________________\n",
      "conv2d_5 (Conv2D)            (None, 119, 119, 32)      4640      \n",
      "_________________________________________________________________\n",
      "activation_15 (Activation)   (None, 119, 119, 32)      0         \n",
      "_________________________________________________________________\n",
      "max_pooling2d_5 (MaxPooling2 (None, 59, 59, 32)        0         \n",
      "_________________________________________________________________\n",
      "conv2d_6 (Conv2D)            (None, 57, 57, 64)        18496     \n",
      "_________________________________________________________________\n",
      "activation_16 (Activation)   (None, 57, 57, 64)        0         \n",
      "_________________________________________________________________\n",
      "max_pooling2d_6 (MaxPooling2 (None, 28, 28, 64)        0         \n",
      "_________________________________________________________________\n",
      "flatten_6 (Flatten)          (None, 50176)             0         \n",
      "_________________________________________________________________\n",
      "dense_11 (Dense)             (None, 64)                3211328   \n",
      "_________________________________________________________________\n",
      "activation_17 (Activation)   (None, 64)                0         \n",
      "_________________________________________________________________\n",
      "dropout_6 (Dropout)          (None, 64)                0         \n",
      "_________________________________________________________________\n",
      "dense_12 (Dense)             (None, 1)                 65        \n",
      "_________________________________________________________________\n",
      "activation_18 (Activation)   (None, 1)                 0         \n",
      "=================================================================\n",
      "Total params: 3,234,977\n",
      "Trainable params: 3,234,977\n",
      "Non-trainable params: 0\n",
      "_________________________________________________________________\n"
     ]
    }
   ],
   "source": [
    "from keras.models import Sequential\n",
    "from keras.layers import Conv2D, MaxPooling2D\n",
    "from keras.layers import Activation, Dropout, Flatten, Dense\n",
    "\n",
    "model = Sequential()\n",
    "model.add(Conv2D(16, (3, 3), input_shape=(244, 244, 3)))\n",
    "model.add(Activation('relu'))\n",
    "model.add(MaxPooling2D(pool_size=(2, 2)))\n",
    " \n",
    "model.add(Conv2D(32, (3, 3)))\n",
    "model.add(Activation('relu'))\n",
    "model.add(MaxPooling2D(pool_size=(2, 2)))\n",
    "\n",
    "model.add(Conv2D(64, (3, 3)))\n",
    "model.add(Activation('relu'))\n",
    "model.add(MaxPooling2D(pool_size=(2, 2)))\n",
    "\n",
    "model.add(Flatten())\n",
    "model.add(Dense(64))\n",
    "model.add(Activation('relu'))\n",
    "model.add(Dropout(0.3))\n",
    "model.add(Dense(1))\n",
    "model.add(Activation('sigmoid'))\n",
    "\n",
    "model.compile(loss='binary_crossentropy', optimizer='rmsprop', metrics=['accuracy'])\n",
    "model.summary()"
   ]
  },
  {
   "cell_type": "code",
   "execution_count": 16,
   "metadata": {},
   "outputs": [
    {
     "name": "stdout",
     "output_type": "stream",
     "text": [
      "Epoch 1/7\n",
      "161/161 [==============================] - 273s 2s/step - loss: 0.8566 - acc: 0.7379 - val_loss: 0.5414 - val_acc: 0.7593\n",
      "\n",
      "Epoch 00001: val_acc improved from -inf to 0.75926, saving model to weights.best.h5py\n",
      "Epoch 2/7\n",
      "161/161 [==============================] - 275s 2s/step - loss: 0.3596 - acc: 0.8590 - val_loss: 0.6026 - val_acc: 0.8333\n",
      "\n",
      "Epoch 00002: val_acc improved from 0.75926 to 0.83333, saving model to weights.best.h5py\n",
      "Epoch 3/7\n",
      "161/161 [==============================] - 266s 2s/step - loss: 0.2729 - acc: 0.8876 - val_loss: 1.0829 - val_acc: 0.7037\n",
      "\n",
      "Epoch 00003: val_acc did not improve from 0.83333\n",
      "Epoch 4/7\n",
      "161/161 [==============================] - 264s 2s/step - loss: 0.2223 - acc: 0.9149 - val_loss: 0.6090 - val_acc: 0.8519\n",
      "\n",
      "Epoch 00004: val_acc improved from 0.83333 to 0.85185, saving model to weights.best.h5py\n",
      "Epoch 5/7\n",
      "161/161 [==============================] - 262s 2s/step - loss: 0.2414 - acc: 0.9193 - val_loss: 0.7646 - val_acc: 0.8704\n",
      "\n",
      "Epoch 00005: val_acc improved from 0.85185 to 0.87037, saving model to weights.best.h5py\n",
      "Epoch 6/7\n",
      "161/161 [==============================] - 264s 2s/step - loss: 0.1733 - acc: 0.9435 - val_loss: 1.1278 - val_acc: 0.8333\n",
      "\n",
      "Epoch 00006: val_acc did not improve from 0.87037\n",
      "Epoch 7/7\n",
      "161/161 [==============================] - 263s 2s/step - loss: 0.1661 - acc: 0.9453 - val_loss: 1.1362 - val_acc: 0.7222\n",
      "\n",
      "Epoch 00007: val_acc did not improve from 0.87037\n"
     ]
    },
    {
     "data": {
      "text/plain": [
       "<keras.callbacks.History at 0x2f4cdf95630>"
      ]
     },
     "execution_count": 16,
     "metadata": {},
     "output_type": "execute_result"
    }
   ],
   "source": [
    "from keras.callbacks import ModelCheckpoint\n",
    "\n",
    "#use ModelCheckpoint to save weights with the best accuracy\n",
    "checkpointer = ModelCheckpoint(filepath='weights.best.h5py', monitor='val_acc', verbose=1, save_best_only=True, mode='max')\n",
    "\n",
    "#train the network on train_generator dataset\n",
    "model.fit_generator(train_generator, steps_per_epoch=161, epochs=7, validation_data=valid_generator, validation_steps=54,callbacks=[checkpointer], verbose=1)\n"
   ]
  },
  {
   "cell_type": "code",
   "execution_count": 18,
   "metadata": {},
   "outputs": [],
   "source": [
    "def accuracy(path):\n",
    "    \n",
    "    #load the weights with the best accuracy value\n",
    "    model.load_weights('weights.best.h5py')\n",
    "    \n",
    "    test_generator = test_datagen.flow_from_directory(path, target_size=(244,244), batch_size=10, class_mode='binary')\n",
    "    \n",
    "    #Evaluate the model on the test set\n",
    "    scores = model.evaluate_generator(test_generator,54)\n",
    "    return  scores[1]"
   ]
  },
  {
   "cell_type": "code",
   "execution_count": 19,
   "metadata": {},
   "outputs": [
    {
     "name": "stdout",
     "output_type": "stream",
     "text": [
      "Found 54 images belonging to 2 classes.\n",
      "Acuraccy:  0.8518518469461198\n"
     ]
    }
   ],
   "source": [
    "#here as the argument to the accuracy use the path to your test data\n",
    "print (\"Acuraccy: \", accuracy('test'))"
   ]
  },
  {
   "cell_type": "code",
   "execution_count": 4,
   "metadata": {},
   "outputs": [],
   "source": [
    "from keras.applications import VGG16\n",
    "\n",
    "model = VGG16(weights=\"imagenet\", include_top=False)\n",
    "\n",
    "train_data = model.predict_generator(train_generator,len(train_generator)//10)\n",
    "train_label = train_generator.class_indices.keys()\n",
    "\n",
    "valid_data = model.predict_generator(valid_generator,len(valid_generator)//10)\n",
    "valid_label = valid_generator.class_indices.keys()"
   ]
  },
  {
   "cell_type": "code",
   "execution_count": 12,
   "metadata": {},
   "outputs": [
    {
     "name": "stdout",
     "output_type": "stream",
     "text": [
      "_________________________________________________________________\n",
      "Layer (type)                 Output Shape              Param #   \n",
      "=================================================================\n",
      "flatten_5 (Flatten)          (None, 25088)             0         \n",
      "_________________________________________________________________\n",
      "dense_9 (Dense)              (None, 256)               6422784   \n",
      "_________________________________________________________________\n",
      "activation_12 (Activation)   (None, 256)               0         \n",
      "_________________________________________________________________\n",
      "dropout_5 (Dropout)          (None, 256)               0         \n",
      "_________________________________________________________________\n",
      "dense_10 (Dense)             (None, 1)                 257       \n",
      "_________________________________________________________________\n",
      "activation_13 (Activation)   (None, 1)                 0         \n",
      "=================================================================\n",
      "Total params: 6,423,041\n",
      "Trainable params: 6,423,041\n",
      "Non-trainable params: 0\n",
      "_________________________________________________________________\n"
     ]
    }
   ],
   "source": [
    "transfer_model = Sequential()\n",
    "transfer_model.add(Flatten(input_shape=train_data.shape[1:]))\n",
    "transfer_model.add(Dense(256))\n",
    "transfer_model.add(Activation('relu'))\n",
    "transfer_model.add(Dropout(0.4))\n",
    "transfer_model.add(Dense(1))\n",
    "transfer_model.add(Activation('sigmoid'))\n",
    "\n",
    "transfer_model.compile(loss='binary_crossentropy', optimizer='rmsprop', metrics=['accuracy'])\n",
    "transfer_model.summary()"
   ]
  },
  {
   "cell_type": "code",
   "execution_count": null,
   "metadata": {},
   "outputs": [],
   "source": [
    "def transfer_accuracy(path):\n",
    "    \n",
    "    #load the weights with the best accuracy value\n",
    "    transfer_model.load_weights('weights.best.h5py')\n",
    "    \n",
    "    test_data_gen = test_datagen.flow_from_directory(path, target_size=(244,244), batch_size=10, class_mode='binary')\n",
    "    test_data = model.predict_generator(test_data_gen,len(test_data_gen)//10)\n",
    "    test_label = test_generator.class_indices.keys()\n",
    "    #Evaluate the model on the test set\n",
    "    transfer_scores = model.evaluate(test_data, test_label, batch_size=10)\n",
    "    return  transfer_scores[1]"
   ]
  },
  {
   "cell_type": "code",
   "execution_count": null,
   "metadata": {},
   "outputs": [],
   "source": [
    "#use ModelCheckpoint to save weights with the best accuracy\n",
    "checkpointer = ModelCheckpoint(filepath='transfer_weights.best.h5py', monitor='val_acc', verbose=1, save_best_only=True, mode='max')\n",
    "\n",
    "#train the network on train_generator dataset\n",
    "transfer_model.fit_generator(train_generator, steps_per_epoch=161, epochs=7, validation_data=valid_generator, validation_steps=54,callbacks=[checkpointer], verbose=1)\n"
   ]
  },
  {
   "cell_type": "code",
   "execution_count": null,
   "metadata": {},
   "outputs": [],
   "source": [
    "print (\"Acuraccy: \", transfer_accuracy('test'))"
   ]
  }
 ],
 "metadata": {
  "kernelspec": {
   "display_name": "Python 3",
   "language": "python",
   "name": "python3"
  },
  "language_info": {
   "codemirror_mode": {
    "name": "ipython",
    "version": 3
   },
   "file_extension": ".py",
   "mimetype": "text/x-python",
   "name": "python",
   "nbconvert_exporter": "python",
   "pygments_lexer": "ipython3",
   "version": "3.6.6"
  }
 },
 "nbformat": 4,
 "nbformat_minor": 2
}
