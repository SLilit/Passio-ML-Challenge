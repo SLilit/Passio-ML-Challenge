{
 "cells": [
  {
   "cell_type": "code",
   "execution_count": 1,
   "metadata": {},
   "outputs": [
    {
     "name": "stderr",
     "output_type": "stream",
     "text": [
      "Using TensorFlow backend.\n"
     ]
    },
    {
     "name": "stdout",
     "output_type": "stream",
     "text": [
      "Found 145 images belonging to 2 classes.\n",
      "Found 62 images belonging to 2 classes.\n",
      "Found 62 images belonging to 2 classes.\n"
     ]
    }
   ],
   "source": [
    "#import nessesary library for data pre-processing\n",
    "from keras.preprocessing.image import ImageDataGenerator, img_to_array, array_to_img\n",
    "\n",
    "#Use ImageDataGenerator for data augmentation to get more data for training and rescaling validation and testing data\n",
    "train_datagen = ImageDataGenerator(rescale=1./255, rotation_range=50, zoom_range=0.4, horizontal_flip=True)\n",
    "test_datagen = ImageDataGenerator(rescale=1./255)\n",
    "\n",
    "train_generator = train_datagen.flow_from_directory('train', target_size=(244,244), batch_size=10, class_mode='binary')\n",
    "valid_generator = test_datagen.flow_from_directory('valid', target_size=(244,244), batch_size=10, class_mode='binary')\n",
    "test_generator = test_datagen.flow_from_directory('test', target_size=(244,244), batch_size=10, class_mode='binary')"
   ]
  }
 ],
 "metadata": {
  "kernelspec": {
   "display_name": "Python 3",
   "language": "python",
   "name": "python3"
  },
  "language_info": {
   "codemirror_mode": {
    "name": "ipython",
    "version": 3
   },
   "file_extension": ".py",
   "mimetype": "text/x-python",
   "name": "python",
   "nbconvert_exporter": "python",
   "pygments_lexer": "ipython3",
   "version": "3.6.6"
  }
 },
 "nbformat": 4,
 "nbformat_minor": 2
}
