{
 "cells": [
  {
   "cell_type": "code",
   "execution_count": 1,
   "metadata": {},
   "outputs": [
    {
     "name": "stderr",
     "output_type": "stream",
     "text": [
      "Using TensorFlow backend.\n"
     ]
    },
    {
     "name": "stdout",
     "output_type": "stream",
     "text": [
      "Found 161 images belonging to 2 classes.\n",
      "Found 54 images belonging to 2 classes.\n",
      "Found 54 images belonging to 2 classes.\n"
     ]
    }
   ],
   "source": [
    "#import nessesary library for data pre-processing\n",
    "from keras.preprocessing.image import ImageDataGenerator, img_to_array, array_to_img\n",
    "\n",
    "#Use ImageDataGenerator for data augmentation to get more data for training and rescaling validation and testing data\n",
    "train_datagen = ImageDataGenerator(rescale=1./255, rotation_range=50, zoom_range=0.4, horizontal_flip=True)\n",
    "test_datagen = ImageDataGenerator(rescale=1./255)\n",
    "\n",
    "train_generator = train_datagen.flow_from_directory('train', target_size=(244,244), batch_size=10, class_mode='binary')\n",
    "valid_generator = test_datagen.flow_from_directory('valid', target_size=(244,244), batch_size=10, class_mode='binary')\n",
    "test_generator = test_datagen.flow_from_directory('test', target_size=(244,244), batch_size=10, class_mode='binary')"
   ]
  },
  {
   "cell_type": "code",
   "execution_count": 2,
   "metadata": {},
   "outputs": [
    {
     "name": "stdout",
     "output_type": "stream",
     "text": [
      "_________________________________________________________________\n",
      "Layer (type)                 Output Shape              Param #   \n",
      "=================================================================\n",
      "conv2d_1 (Conv2D)            (None, 242, 242, 16)      448       \n",
      "_________________________________________________________________\n",
      "activation_1 (Activation)    (None, 242, 242, 16)      0         \n",
      "_________________________________________________________________\n",
      "max_pooling2d_1 (MaxPooling2 (None, 121, 121, 16)      0         \n",
      "_________________________________________________________________\n",
      "conv2d_2 (Conv2D)            (None, 119, 119, 32)      4640      \n",
      "_________________________________________________________________\n",
      "activation_2 (Activation)    (None, 119, 119, 32)      0         \n",
      "_________________________________________________________________\n",
      "max_pooling2d_2 (MaxPooling2 (None, 59, 59, 32)        0         \n",
      "_________________________________________________________________\n",
      "conv2d_3 (Conv2D)            (None, 57, 57, 64)        18496     \n",
      "_________________________________________________________________\n",
      "activation_3 (Activation)    (None, 57, 57, 64)        0         \n",
      "_________________________________________________________________\n",
      "max_pooling2d_3 (MaxPooling2 (None, 28, 28, 64)        0         \n",
      "_________________________________________________________________\n",
      "flatten_1 (Flatten)          (None, 50176)             0         \n",
      "_________________________________________________________________\n",
      "dense_1 (Dense)              (None, 64)                3211328   \n",
      "_________________________________________________________________\n",
      "activation_4 (Activation)    (None, 64)                0         \n",
      "_________________________________________________________________\n",
      "dropout_1 (Dropout)          (None, 64)                0         \n",
      "_________________________________________________________________\n",
      "dense_2 (Dense)              (None, 1)                 65        \n",
      "_________________________________________________________________\n",
      "activation_5 (Activation)    (None, 1)                 0         \n",
      "=================================================================\n",
      "Total params: 3,234,977\n",
      "Trainable params: 3,234,977\n",
      "Non-trainable params: 0\n",
      "_________________________________________________________________\n"
     ]
    }
   ],
   "source": [
    "from keras.models import Sequential\n",
    "from keras.layers import Conv2D, MaxPooling2D\n",
    "from keras.layers import Activation, Dropout, Flatten, Dense\n",
    "\n",
    "model = Sequential()\n",
    "model.add(Conv2D(16, (3, 3), input_shape=(244, 244, 3)))\n",
    "model.add(Activation('relu'))\n",
    "model.add(MaxPooling2D(pool_size=(2, 2)))\n",
    " \n",
    "model.add(Conv2D(32, (3, 3)))\n",
    "model.add(Activation('relu'))\n",
    "model.add(MaxPooling2D(pool_size=(2, 2)))\n",
    "\n",
    "model.add(Conv2D(64, (3, 3)))\n",
    "model.add(Activation('relu'))\n",
    "model.add(MaxPooling2D(pool_size=(2, 2)))\n",
    "\n",
    "model.add(Flatten())\n",
    "model.add(Dense(64))\n",
    "model.add(Activation('relu'))\n",
    "model.add(Dropout(0.3))\n",
    "model.add(Dense(1))\n",
    "model.add(Activation('sigmoid'))\n",
    "\n",
    "model.compile(loss='binary_crossentropy', optimizer='rmsprop', metrics=['accuracy'])\n",
    "model.summary()"
   ]
  },
  {
   "cell_type": "code",
   "execution_count": 3,
   "metadata": {},
   "outputs": [
    {
     "name": "stdout",
     "output_type": "stream",
     "text": [
      "Epoch 1/7\n",
      "145/145 [==============================] - 245s 2s/step - loss: 0.4958 - acc: 0.7910 - val_loss: 0.3379 - val_acc: 0.8148\n",
      "\n",
      "Epoch 00001: val_acc improved from -inf to 0.81481, saving model to weights.best.h5py\n",
      "Epoch 2/7\n",
      "145/145 [==============================] - 245s 2s/step - loss: 0.2950 - acc: 0.8759 - val_loss: 0.3342 - val_acc: 0.9074\n",
      "\n",
      "Epoch 00002: val_acc improved from 0.81481 to 0.90741, saving model to weights.best.h5py\n",
      "Epoch 3/7\n",
      "145/145 [==============================] - 243s 2s/step - loss: 0.2095 - acc: 0.9145 - val_loss: 0.4951 - val_acc: 0.8148\n",
      "\n",
      "Epoch 00003: val_acc did not improve from 0.90741\n",
      "Epoch 4/7\n",
      "145/145 [==============================] - 242s 2s/step - loss: 0.2016 - acc: 0.9352 - val_loss: 0.4686 - val_acc: 0.8333\n",
      "\n",
      "Epoch 00004: val_acc did not improve from 0.90741\n",
      "Epoch 5/7\n",
      "145/145 [==============================] - 242s 2s/step - loss: 0.1505 - acc: 0.9476 - val_loss: 0.2106 - val_acc: 0.9630\n",
      "\n",
      "Epoch 00005: val_acc improved from 0.90741 to 0.96296, saving model to weights.best.h5py\n",
      "Epoch 6/7\n",
      "145/145 [==============================] - 238s 2s/step - loss: 0.1375 - acc: 0.9497 - val_loss: 0.4618 - val_acc: 0.9259\n",
      "\n",
      "Epoch 00006: val_acc did not improve from 0.96296\n",
      "Epoch 7/7\n",
      "145/145 [==============================] - 234s 2s/step - loss: 0.1324 - acc: 0.9648 - val_loss: 0.2255 - val_acc: 0.9259\n",
      "\n",
      "Epoch 00007: val_acc did not improve from 0.96296\n"
     ]
    },
    {
     "data": {
      "text/plain": [
       "<keras.callbacks.History at 0x237fbb5b630>"
      ]
     },
     "execution_count": 3,
     "metadata": {},
     "output_type": "execute_result"
    }
   ],
   "source": [
    "from keras.callbacks import ModelCheckpoint\n",
    "\n",
    "#use ModelCheckpoint to save weights with the best accuracy\n",
    "checkpointer = ModelCheckpoint(filepath='weights.best.h5py', monitor='val_acc', verbose=1, save_best_only=True, mode='max')\n",
    "\n",
    "#train the network on train_generator dataset\n",
    "model.fit_generator(train_generator, steps_per_epoch=145, epochs=7, validation_data=valid_generator, validation_steps=62,\\\n",
    "                    callbacks=[checkpointer], verbose=1)\n"
   ]
  },
  {
   "cell_type": "code",
   "execution_count": 4,
   "metadata": {},
   "outputs": [],
   "source": [
    "def accuracy(path):\n",
    "    \n",
    "    #load the weights with the best accuracy value\n",
    "    model.load_weights('weights.best.h5py')\n",
    "    \n",
    "    test_data = test_datagen.flow_from_directory(path, target_size=(244,244), batch_size=10, class_mode='binary')\n",
    "    \n",
    "    #Evaluate the model on the test set\n",
    "    scores = model.evaluate_generator(test_generator,42)\n",
    "    return  scores[1]"
   ]
  },
  {
   "cell_type": "code",
   "execution_count": 5,
   "metadata": {},
   "outputs": [
    {
     "name": "stdout",
     "output_type": "stream",
     "text": [
      "Found 54 images belonging to 2 classes.\n",
      "Acuraccy:  0.8333333248183841\n"
     ]
    }
   ],
   "source": [
    "#here as the argument to the accuracy use the path to your test data\n",
    "print (\"Acuraccy: \", accuracy('test'))"
   ]
  }
 ],
 "metadata": {
  "kernelspec": {
   "display_name": "Python 3",
   "language": "python",
   "name": "python3"
  },
  "language_info": {
   "codemirror_mode": {
    "name": "ipython",
    "version": 3
   },
   "file_extension": ".py",
   "mimetype": "text/x-python",
   "name": "python",
   "nbconvert_exporter": "python",
   "pygments_lexer": "ipython3",
   "version": "3.6.6"
  }
 },
 "nbformat": 4,
 "nbformat_minor": 2
}
